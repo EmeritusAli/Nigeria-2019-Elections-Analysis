{
 "cells": [
  {
   "cell_type": "code",
   "execution_count": 1,
   "id": "ca527ce0",
   "metadata": {
    "_cell_guid": "b1076dfc-b9ad-4769-8c92-a6c4dae69d19",
    "_uuid": "8f2839f25d086af736a60e9eeb907d3b93b6e0e5",
    "execution": {
     "iopub.execute_input": "2022-05-22T10:36:57.294620Z",
     "iopub.status.busy": "2022-05-22T10:36:57.294287Z",
     "iopub.status.idle": "2022-05-22T10:36:57.305882Z",
     "shell.execute_reply": "2022-05-22T10:36:57.305117Z"
    },
    "papermill": {
     "duration": 0.039112,
     "end_time": "2022-05-22T10:36:57.308175",
     "exception": false,
     "start_time": "2022-05-22T10:36:57.269063",
     "status": "completed"
    },
    "tags": []
   },
   "outputs": [],
   "source": [
    "# This Python 3 environment comes with many helpful analytics libraries installed\n",
    "# It is defined by the kaggle/python Docker image: https://github.com/kaggle/docker-python\n",
    "# For example, here's several helpful packages to load\n",
    "\n",
    "import numpy as np # linear algebra\n",
    "import pandas as pd # data processing, CSV file I/O (e.g. pd.read_csv)\n",
    "\n",
    "# Input data files are available in the read-only \"../input/\" directory\n",
    "# For example, running this (by clicking run or pressing Shift+Enter) will list all files under the input directory\n",
    "\n",
    "import os\n",
    "for dirname, _, filenames in os.walk('/kaggle/input'):\n",
    "    for filename in filenames:\n",
    "        print(os.path.join(dirname, filename))\n",
    "\n",
    "# You can write up to 20GB to the current directory (/kaggle/working/) that gets preserved as output when you create a version using \"Save & Run All\" \n",
    "# You can also write temporary files to /kaggle/temp/, but they won't be saved outside of the current session"
   ]
  },
  {
   "cell_type": "code",
   "execution_count": 2,
   "id": "99c5c2aa",
   "metadata": {
    "execution": {
     "iopub.execute_input": "2022-05-22T10:36:57.354485Z",
     "iopub.status.busy": "2022-05-22T10:36:57.354151Z",
     "iopub.status.idle": "2022-05-22T10:36:58.266074Z",
     "shell.execute_reply": "2022-05-22T10:36:58.265057Z"
    },
    "papermill": {
     "duration": 0.937666,
     "end_time": "2022-05-22T10:36:58.268506",
     "exception": false,
     "start_time": "2022-05-22T10:36:57.330840",
     "status": "completed"
    },
    "tags": []
   },
   "outputs": [],
   "source": [
    "# Import necessary packages\n",
    "from bs4 import BeautifulSoup\n",
    "import requests\n",
    "import re\n",
    "url=\"https://en.wikipedia.org/wiki/2019_Nigerian_general_election\"\n",
    "# Make a GET request to fetch the raw HTML content\n",
    "html_content = requests.get(url).text\n",
    "# Parse HTML code for the entire site\n",
    "soup = BeautifulSoup(html_content, \"lxml\")\n",
    "#print(soup.prettify()) # print the parsed data of html"
   ]
  },
  {
   "cell_type": "code",
   "execution_count": 3,
   "id": "946e2d7e",
   "metadata": {
    "execution": {
     "iopub.execute_input": "2022-05-22T10:36:58.315151Z",
     "iopub.status.busy": "2022-05-22T10:36:58.314879Z",
     "iopub.status.idle": "2022-05-22T10:36:58.333560Z",
     "shell.execute_reply": "2022-05-22T10:36:58.332515Z"
    },
    "papermill": {
     "duration": 0.0445,
     "end_time": "2022-05-22T10:36:58.335859",
     "exception": false,
     "start_time": "2022-05-22T10:36:58.291359",
     "status": "completed"
    },
    "tags": []
   },
   "outputs": [
    {
     "name": "stdout",
     "output_type": "stream",
     "text": [
      "Number of tables on site:  8\n"
     ]
    }
   ],
   "source": [
    "election_tables = soup.find_all(\"table\", attrs={\"class\": \"wikitable\"})\n",
    "print(\"Number of tables on site: \",len(election_tables))"
   ]
  },
  {
   "cell_type": "code",
   "execution_count": 4,
   "id": "fc1a0dd9",
   "metadata": {
    "execution": {
     "iopub.execute_input": "2022-05-22T10:36:58.383297Z",
     "iopub.status.busy": "2022-05-22T10:36:58.382997Z",
     "iopub.status.idle": "2022-05-22T10:36:58.391713Z",
     "shell.execute_reply": "2022-05-22T10:36:58.390701Z"
    },
    "papermill": {
     "duration": 0.034935,
     "end_time": "2022-05-22T10:36:58.394298",
     "exception": false,
     "start_time": "2022-05-22T10:36:58.359363",
     "status": "completed"
    },
    "tags": []
   },
   "outputs": [
    {
     "name": "stdout",
     "output_type": "stream",
     "text": [
      "['State', 'Buhari', 'Atiku', 'Nicolas', 'Sowore', 'Moghalu', 'Durotoye', 'Duke', 'Mailafia']\n"
     ]
    }
   ],
   "source": [
    "# Lets go ahead and scrape first table with HTML code election_tables[0]\n",
    "table1 = election_tables[4]\n",
    "# the head will form our column names\n",
    "body = table1.find_all(\"tr\")\n",
    "# Head values (Column names) are the first items of the body list\n",
    "head = body[0] # 0th item is the header row\n",
    "body_rows = body[1:] # All other items becomes the rest of the rows\n",
    "\n",
    "headings = []\n",
    "for item in head.find_all(\"th\"): \n",
    "    # convert the th elements to text and strip \"\\n\"\n",
    "    item = (item.text).rstrip(\"\\n\")\n",
    "    headings.append(item)\n",
    "print(headings)"
   ]
  },
  {
   "cell_type": "code",
   "execution_count": 5,
   "id": "8cdfc44f",
   "metadata": {
    "execution": {
     "iopub.execute_input": "2022-05-22T10:36:58.443855Z",
     "iopub.status.busy": "2022-05-22T10:36:58.443552Z",
     "iopub.status.idle": "2022-05-22T10:36:58.455353Z",
     "shell.execute_reply": "2022-05-22T10:36:58.454598Z"
    },
    "papermill": {
     "duration": 0.038278,
     "end_time": "2022-05-22T10:36:58.457417",
     "exception": false,
     "start_time": "2022-05-22T10:36:58.419139",
     "status": "completed"
    },
    "tags": []
   },
   "outputs": [],
   "source": [
    "all_rows = [] # will be a list for list for all rows\n",
    "for row_num in range(len(body_rows)): # A row at a time\n",
    "    row = [] # this will old entries for one row\n",
    "    for row_item in body_rows[row_num].find_all(\"td\"): \n",
    "        # remove \\xa0 and \\n and comma from row_item.text\n",
    "        aa = re.sub(\"(\\xa0)|(\\n)|,\",\"\",row_item.text)\n",
    "        row.append(aa)\n",
    "    # append one row to all_rows\n",
    "    all_rows.append(row)"
   ]
  },
  {
   "cell_type": "code",
   "execution_count": 6,
   "id": "ddddb866",
   "metadata": {
    "execution": {
     "iopub.execute_input": "2022-05-22T10:36:58.506677Z",
     "iopub.status.busy": "2022-05-22T10:36:58.506223Z",
     "iopub.status.idle": "2022-05-22T10:36:58.512841Z",
     "shell.execute_reply": "2022-05-22T10:36:58.511837Z"
    },
    "papermill": {
     "duration": 0.033647,
     "end_time": "2022-05-22T10:36:58.514933",
     "exception": false,
     "start_time": "2022-05-22T10:36:58.481286",
     "status": "completed"
    },
    "tags": []
   },
   "outputs": [
    {
     "name": "stdout",
     "output_type": "stream",
     "text": [
      "[[], ['Abia', '85058', '219698', '1489', '212', '88', '720', '472', '336'], ['Adamawa', '378078', '410266', '3670', '282', '109', '162', '978', '3989'], ['Akwa Ibom', '175429', '395832', '1902', '222', '118', '95', '92', '230'], ['Anambra', '33298', '524738', '4374', '124', '4091', '45', '932', '227'], ['Bauchi', '798428 ', '209313', '2104', '183', '112', '46', '516', '296'], ['Bayelsa', '118821', '197933', '1584', '126', '50', '37', '124', '1078'], ['Benue', '347668', '356817', '2793', '309', '557', '201', '4927', '554'], ['Borno', '836496', '71788', '', '269', '78', '29', '322', '301'], ['Cross River', '117302', '295737', '', '242', '217', '88', '1395', '326'], ['Delta', '221292', '594068', '', '1626', '497', '320', '1745', '1075'], ['Ebonyi', '90726', '258573', '', '205', '192', '683', '452', '213'], ['Edo', '267842', '275691', '', '3106', '531', '273', '184', '850'], ['Ekiti', '219231', '154032', '', '400', '68', '88', '48', '406'], ['Enugu', '54423', '355553', '', '219', '1379', '141', '130', '348'], ['Gombe', '402961', '138484', '', '165', '39', '78', '248', '248'], ['Imo', '140463', '334923', '', '467', '676', '119', '772', '541'], ['Jigawa', '794738', '289895', '', '226', '67', '66', '5011', '261'], ['Kaduna', '993445', '649612', '', '243', '196', '261', '1737', '558'], ['Kano', '1464768', '391593', '', '416', '200', '114', '635', '591'], ['Katsina', '1232133', '308056', '', '186', '61', '82', '150', '237'], ['Kebbi', '581552', '154282', '', '276', '53', '99', '2376', '285'], ['Kogi', '285894', '218207', '', '250', '87', '89', '2226', '4369'], ['Kwara', '308984', '138184', '', '401', '140', '422', '212', '456'], ['Lagos', '580825', '448015', '', '8910', '5733', '6946', '770', '2915'], ['Nassarawa', '289903', '283847', '', '75', '44', '45', '359', '339'], ['Niger', '612371', '218052', '', '324', '113', '145', '239', '588'], ['Ogun', '281762', '194655', '', '3196', '553', '1509', '1374', '25283'], ['Ondo', '241769', '275901', '', '4414', '1224', '311', '1618', '6296'], ['Osun', '347634', '337377', '', '1022', '189', '268', '259', '1525'], ['Oyo', '365229', '366690', '', '4014', '1608', '1896', '766', '40830'], ['Plateau', '468555', '548665', '', '268', '442', '796', '599', '590'], ['Rivers', '150710', '473971', '', '372', '415', '365', '1244', '597'], ['Sokoto', '490333', '361604', '', '181', '184', '84', '301', '331'], ['Taraba', '324906', '374743', '', '116', '80', '35', '862', '211'], ['Yobe', '497914', '50763', '', '137', '36', '37', '180', '162'], ['Zamfara', '438682', '125423', '', '186', '44', '24', '81', '186'], ['FCT', '152224', '259997', '', '583', '1083', '652', '410', '246'], ['Total', '15191847', '11262978', '110196', '33953', '21886', '16779', '34746', '97874'], ['Source: BBC This Day Vanguard[49][50][51]']]\n"
     ]
    }
   ],
   "source": [
    "new_rows = []\n",
    "for row in all_rows:\n",
    "    new_row = [t for i,t in enumerate(row) if i==0 or i%2!=0]\n",
    "    new_rows.append(new_row)\n",
    "print(new_rows)"
   ]
  },
  {
   "cell_type": "code",
   "execution_count": 7,
   "id": "fe83485e",
   "metadata": {
    "execution": {
     "iopub.execute_input": "2022-05-22T10:36:58.563518Z",
     "iopub.status.busy": "2022-05-22T10:36:58.563229Z",
     "iopub.status.idle": "2022-05-22T10:36:58.591142Z",
     "shell.execute_reply": "2022-05-22T10:36:58.590320Z"
    },
    "papermill": {
     "duration": 0.054676,
     "end_time": "2022-05-22T10:36:58.593426",
     "exception": false,
     "start_time": "2022-05-22T10:36:58.538750",
     "status": "completed"
    },
    "tags": []
   },
   "outputs": [
    {
     "data": {
      "text/html": [
       "<div>\n",
       "<style scoped>\n",
       "    .dataframe tbody tr th:only-of-type {\n",
       "        vertical-align: middle;\n",
       "    }\n",
       "\n",
       "    .dataframe tbody tr th {\n",
       "        vertical-align: top;\n",
       "    }\n",
       "\n",
       "    .dataframe thead th {\n",
       "        text-align: right;\n",
       "    }\n",
       "</style>\n",
       "<table border=\"1\" class=\"dataframe\">\n",
       "  <thead>\n",
       "    <tr style=\"text-align: right;\">\n",
       "      <th></th>\n",
       "      <th>State</th>\n",
       "      <th>Buhari</th>\n",
       "      <th>Atiku</th>\n",
       "      <th>Nicolas</th>\n",
       "      <th>Sowore</th>\n",
       "      <th>Moghalu</th>\n",
       "      <th>Durotoye</th>\n",
       "      <th>Duke</th>\n",
       "      <th>Mailafia</th>\n",
       "    </tr>\n",
       "  </thead>\n",
       "  <tbody>\n",
       "    <tr>\n",
       "      <th>0</th>\n",
       "      <td>None</td>\n",
       "      <td>None</td>\n",
       "      <td>None</td>\n",
       "      <td>None</td>\n",
       "      <td>None</td>\n",
       "      <td>None</td>\n",
       "      <td>None</td>\n",
       "      <td>None</td>\n",
       "      <td>None</td>\n",
       "    </tr>\n",
       "    <tr>\n",
       "      <th>1</th>\n",
       "      <td>Abia</td>\n",
       "      <td>85058</td>\n",
       "      <td>219698</td>\n",
       "      <td>1489</td>\n",
       "      <td>212</td>\n",
       "      <td>88</td>\n",
       "      <td>720</td>\n",
       "      <td>472</td>\n",
       "      <td>336</td>\n",
       "    </tr>\n",
       "    <tr>\n",
       "      <th>2</th>\n",
       "      <td>Adamawa</td>\n",
       "      <td>378078</td>\n",
       "      <td>410266</td>\n",
       "      <td>3670</td>\n",
       "      <td>282</td>\n",
       "      <td>109</td>\n",
       "      <td>162</td>\n",
       "      <td>978</td>\n",
       "      <td>3989</td>\n",
       "    </tr>\n",
       "    <tr>\n",
       "      <th>3</th>\n",
       "      <td>Akwa Ibom</td>\n",
       "      <td>175429</td>\n",
       "      <td>395832</td>\n",
       "      <td>1902</td>\n",
       "      <td>222</td>\n",
       "      <td>118</td>\n",
       "      <td>95</td>\n",
       "      <td>92</td>\n",
       "      <td>230</td>\n",
       "    </tr>\n",
       "    <tr>\n",
       "      <th>4</th>\n",
       "      <td>Anambra</td>\n",
       "      <td>33298</td>\n",
       "      <td>524738</td>\n",
       "      <td>4374</td>\n",
       "      <td>124</td>\n",
       "      <td>4091</td>\n",
       "      <td>45</td>\n",
       "      <td>932</td>\n",
       "      <td>227</td>\n",
       "    </tr>\n",
       "  </tbody>\n",
       "</table>\n",
       "</div>"
      ],
      "text/plain": [
       "       State  Buhari   Atiku Nicolas Sowore Moghalu Durotoye  Duke Mailafia\n",
       "0       None    None    None    None   None    None     None  None     None\n",
       "1       Abia   85058  219698    1489    212      88      720   472      336\n",
       "2    Adamawa  378078  410266    3670    282     109      162   978     3989\n",
       "3  Akwa Ibom  175429  395832    1902    222     118       95    92      230\n",
       "4    Anambra   33298  524738    4374    124    4091       45   932      227"
      ]
     },
     "execution_count": 7,
     "metadata": {},
     "output_type": "execute_result"
    }
   ],
   "source": [
    "# all_rows becomes our data and headings the column names\n",
    "df = pd.DataFrame(data=new_rows,columns=headings)\n",
    "df.head()"
   ]
  },
  {
   "cell_type": "code",
   "execution_count": 8,
   "id": "2ad11a73",
   "metadata": {
    "execution": {
     "iopub.execute_input": "2022-05-22T10:36:58.644175Z",
     "iopub.status.busy": "2022-05-22T10:36:58.643752Z",
     "iopub.status.idle": "2022-05-22T10:36:58.657199Z",
     "shell.execute_reply": "2022-05-22T10:36:58.656350Z"
    },
    "papermill": {
     "duration": 0.041088,
     "end_time": "2022-05-22T10:36:58.659305",
     "exception": false,
     "start_time": "2022-05-22T10:36:58.618217",
     "status": "completed"
    },
    "tags": []
   },
   "outputs": [
    {
     "data": {
      "text/html": [
       "<div>\n",
       "<style scoped>\n",
       "    .dataframe tbody tr th:only-of-type {\n",
       "        vertical-align: middle;\n",
       "    }\n",
       "\n",
       "    .dataframe tbody tr th {\n",
       "        vertical-align: top;\n",
       "    }\n",
       "\n",
       "    .dataframe thead th {\n",
       "        text-align: right;\n",
       "    }\n",
       "</style>\n",
       "<table border=\"1\" class=\"dataframe\">\n",
       "  <thead>\n",
       "    <tr style=\"text-align: right;\">\n",
       "      <th></th>\n",
       "      <th>State</th>\n",
       "      <th>Buhari</th>\n",
       "      <th>Atiku</th>\n",
       "      <th>Nicolas</th>\n",
       "      <th>Sowore</th>\n",
       "      <th>Moghalu</th>\n",
       "      <th>Durotoye</th>\n",
       "      <th>Duke</th>\n",
       "      <th>Mailafia</th>\n",
       "    </tr>\n",
       "  </thead>\n",
       "  <tbody>\n",
       "    <tr>\n",
       "      <th>35</th>\n",
       "      <td>Yobe</td>\n",
       "      <td>497914</td>\n",
       "      <td>50763</td>\n",
       "      <td></td>\n",
       "      <td>137</td>\n",
       "      <td>36</td>\n",
       "      <td>37</td>\n",
       "      <td>180</td>\n",
       "      <td>162</td>\n",
       "    </tr>\n",
       "    <tr>\n",
       "      <th>36</th>\n",
       "      <td>Zamfara</td>\n",
       "      <td>438682</td>\n",
       "      <td>125423</td>\n",
       "      <td></td>\n",
       "      <td>186</td>\n",
       "      <td>44</td>\n",
       "      <td>24</td>\n",
       "      <td>81</td>\n",
       "      <td>186</td>\n",
       "    </tr>\n",
       "    <tr>\n",
       "      <th>37</th>\n",
       "      <td>FCT</td>\n",
       "      <td>152224</td>\n",
       "      <td>259997</td>\n",
       "      <td></td>\n",
       "      <td>583</td>\n",
       "      <td>1083</td>\n",
       "      <td>652</td>\n",
       "      <td>410</td>\n",
       "      <td>246</td>\n",
       "    </tr>\n",
       "    <tr>\n",
       "      <th>38</th>\n",
       "      <td>Total</td>\n",
       "      <td>15191847</td>\n",
       "      <td>11262978</td>\n",
       "      <td>110196</td>\n",
       "      <td>33953</td>\n",
       "      <td>21886</td>\n",
       "      <td>16779</td>\n",
       "      <td>34746</td>\n",
       "      <td>97874</td>\n",
       "    </tr>\n",
       "    <tr>\n",
       "      <th>39</th>\n",
       "      <td>Source: BBC This Day Vanguard[49][50][51]</td>\n",
       "      <td>None</td>\n",
       "      <td>None</td>\n",
       "      <td>None</td>\n",
       "      <td>None</td>\n",
       "      <td>None</td>\n",
       "      <td>None</td>\n",
       "      <td>None</td>\n",
       "      <td>None</td>\n",
       "    </tr>\n",
       "  </tbody>\n",
       "</table>\n",
       "</div>"
      ],
      "text/plain": [
       "                                        State    Buhari     Atiku Nicolas  \\\n",
       "35                                       Yobe    497914     50763           \n",
       "36                                    Zamfara    438682    125423           \n",
       "37                                        FCT    152224    259997           \n",
       "38                                      Total  15191847  11262978  110196   \n",
       "39  Source: BBC This Day Vanguard[49][50][51]      None      None    None   \n",
       "\n",
       "   Sowore Moghalu Durotoye   Duke Mailafia  \n",
       "35    137      36       37    180      162  \n",
       "36    186      44       24     81      186  \n",
       "37    583    1083      652    410      246  \n",
       "38  33953   21886    16779  34746    97874  \n",
       "39   None    None     None   None     None  "
      ]
     },
     "execution_count": 8,
     "metadata": {},
     "output_type": "execute_result"
    }
   ],
   "source": [
    "df.tail()"
   ]
  },
  {
   "cell_type": "code",
   "execution_count": 9,
   "id": "52fb4e69",
   "metadata": {
    "execution": {
     "iopub.execute_input": "2022-05-22T10:36:58.712673Z",
     "iopub.status.busy": "2022-05-22T10:36:58.712013Z",
     "iopub.status.idle": "2022-05-22T10:36:59.893617Z",
     "shell.execute_reply": "2022-05-22T10:36:59.892991Z"
    },
    "papermill": {
     "duration": 1.21037,
     "end_time": "2022-05-22T10:36:59.896302",
     "exception": false,
     "start_time": "2022-05-22T10:36:58.685932",
     "status": "completed"
    },
    "tags": []
   },
   "outputs": [
    {
     "name": "stdout",
     "output_type": "stream",
     "text": [
      "Number of tables on site:  1\n"
     ]
    }
   ],
   "source": [
    "url=\"https://www.bbc.co.uk/news/resources/idt-f0b25208-4a1d-4068-a204-940cbe88d1d3\"\n",
    "\n",
    "html_content = requests.get(url).text\n",
    "soup = BeautifulSoup(html_content, \"lxml\")\n",
    "bbc_tables = soup.find_all(\"table\", attrs={\"class\": \"r-table__table\"})\n",
    "print(\"Number of tables on site: \",len(bbc_tables))"
   ]
  },
  {
   "cell_type": "code",
   "execution_count": 10,
   "id": "7a9ae85b",
   "metadata": {
    "execution": {
     "iopub.execute_input": "2022-05-22T10:36:59.950964Z",
     "iopub.status.busy": "2022-05-22T10:36:59.950440Z",
     "iopub.status.idle": "2022-05-22T10:36:59.988433Z",
     "shell.execute_reply": "2022-05-22T10:36:59.987839Z"
    },
    "papermill": {
     "duration": 0.067346,
     "end_time": "2022-05-22T10:36:59.990373",
     "exception": false,
     "start_time": "2022-05-22T10:36:59.923027",
     "status": "completed"
    },
    "tags": []
   },
   "outputs": [
    {
     "name": "stdout",
     "output_type": "stream",
     "text": [
      "       State     APC     PDP   PCP   ADC   APGA\n",
      "0       Abia   85058  219698  1489   336   9638\n",
      "1    Adamawa  378078  410266  3670  3989    159\n",
      "2  Akwa Ibom  175429  395832  1902   230     61\n",
      "3    Anambra   33298  524738  4374   227  30034\n",
      "4     Bauchi  798428  209313  2104   296    149\n"
     ]
    }
   ],
   "source": [
    "df1=pd.read_html(str(bbc_tables))\n",
    "# convert list to dataframe\n",
    "df_=pd.DataFrame(df1[0])\n",
    "print(df_.head())"
   ]
  },
  {
   "cell_type": "code",
   "execution_count": 11,
   "id": "ae9e452a",
   "metadata": {
    "execution": {
     "iopub.execute_input": "2022-05-22T10:37:00.044042Z",
     "iopub.status.busy": "2022-05-22T10:37:00.043478Z",
     "iopub.status.idle": "2022-05-22T10:37:00.065694Z",
     "shell.execute_reply": "2022-05-22T10:37:00.064709Z"
    },
    "papermill": {
     "duration": 0.051286,
     "end_time": "2022-05-22T10:37:00.067905",
     "exception": false,
     "start_time": "2022-05-22T10:37:00.016619",
     "status": "completed"
    },
    "tags": []
   },
   "outputs": [],
   "source": [
    "election_da = pd.merge(df, df_, on='State', how='left')"
   ]
  },
  {
   "cell_type": "code",
   "execution_count": 12,
   "id": "14fbaebb",
   "metadata": {
    "execution": {
     "iopub.execute_input": "2022-05-22T10:37:00.122638Z",
     "iopub.status.busy": "2022-05-22T10:37:00.122119Z",
     "iopub.status.idle": "2022-05-22T10:37:00.141005Z",
     "shell.execute_reply": "2022-05-22T10:37:00.140406Z"
    },
    "papermill": {
     "duration": 0.047558,
     "end_time": "2022-05-22T10:37:00.142889",
     "exception": false,
     "start_time": "2022-05-22T10:37:00.095331",
     "status": "completed"
    },
    "tags": []
   },
   "outputs": [
    {
     "data": {
      "text/html": [
       "<div>\n",
       "<style scoped>\n",
       "    .dataframe tbody tr th:only-of-type {\n",
       "        vertical-align: middle;\n",
       "    }\n",
       "\n",
       "    .dataframe tbody tr th {\n",
       "        vertical-align: top;\n",
       "    }\n",
       "\n",
       "    .dataframe thead th {\n",
       "        text-align: right;\n",
       "    }\n",
       "</style>\n",
       "<table border=\"1\" class=\"dataframe\">\n",
       "  <thead>\n",
       "    <tr style=\"text-align: right;\">\n",
       "      <th></th>\n",
       "      <th>State</th>\n",
       "      <th>Buhari</th>\n",
       "      <th>Atiku</th>\n",
       "      <th>Nicolas</th>\n",
       "      <th>Sowore</th>\n",
       "      <th>Moghalu</th>\n",
       "      <th>Durotoye</th>\n",
       "      <th>Duke</th>\n",
       "      <th>Mailafia</th>\n",
       "      <th>APC</th>\n",
       "      <th>PDP</th>\n",
       "      <th>PCP</th>\n",
       "      <th>ADC</th>\n",
       "      <th>APGA</th>\n",
       "    </tr>\n",
       "  </thead>\n",
       "  <tbody>\n",
       "    <tr>\n",
       "      <th>0</th>\n",
       "      <td>None</td>\n",
       "      <td>None</td>\n",
       "      <td>None</td>\n",
       "      <td>None</td>\n",
       "      <td>None</td>\n",
       "      <td>None</td>\n",
       "      <td>None</td>\n",
       "      <td>None</td>\n",
       "      <td>None</td>\n",
       "      <td>NaN</td>\n",
       "      <td>NaN</td>\n",
       "      <td>NaN</td>\n",
       "      <td>NaN</td>\n",
       "      <td>NaN</td>\n",
       "    </tr>\n",
       "    <tr>\n",
       "      <th>1</th>\n",
       "      <td>Abia</td>\n",
       "      <td>85058</td>\n",
       "      <td>219698</td>\n",
       "      <td>1489</td>\n",
       "      <td>212</td>\n",
       "      <td>88</td>\n",
       "      <td>720</td>\n",
       "      <td>472</td>\n",
       "      <td>336</td>\n",
       "      <td>85058.0</td>\n",
       "      <td>219698.0</td>\n",
       "      <td>1489.0</td>\n",
       "      <td>336.0</td>\n",
       "      <td>9638.0</td>\n",
       "    </tr>\n",
       "    <tr>\n",
       "      <th>2</th>\n",
       "      <td>Adamawa</td>\n",
       "      <td>378078</td>\n",
       "      <td>410266</td>\n",
       "      <td>3670</td>\n",
       "      <td>282</td>\n",
       "      <td>109</td>\n",
       "      <td>162</td>\n",
       "      <td>978</td>\n",
       "      <td>3989</td>\n",
       "      <td>378078.0</td>\n",
       "      <td>410266.0</td>\n",
       "      <td>3670.0</td>\n",
       "      <td>3989.0</td>\n",
       "      <td>159.0</td>\n",
       "    </tr>\n",
       "    <tr>\n",
       "      <th>3</th>\n",
       "      <td>Akwa Ibom</td>\n",
       "      <td>175429</td>\n",
       "      <td>395832</td>\n",
       "      <td>1902</td>\n",
       "      <td>222</td>\n",
       "      <td>118</td>\n",
       "      <td>95</td>\n",
       "      <td>92</td>\n",
       "      <td>230</td>\n",
       "      <td>175429.0</td>\n",
       "      <td>395832.0</td>\n",
       "      <td>1902.0</td>\n",
       "      <td>230.0</td>\n",
       "      <td>61.0</td>\n",
       "    </tr>\n",
       "    <tr>\n",
       "      <th>4</th>\n",
       "      <td>Anambra</td>\n",
       "      <td>33298</td>\n",
       "      <td>524738</td>\n",
       "      <td>4374</td>\n",
       "      <td>124</td>\n",
       "      <td>4091</td>\n",
       "      <td>45</td>\n",
       "      <td>932</td>\n",
       "      <td>227</td>\n",
       "      <td>33298.0</td>\n",
       "      <td>524738.0</td>\n",
       "      <td>4374.0</td>\n",
       "      <td>227.0</td>\n",
       "      <td>30034.0</td>\n",
       "    </tr>\n",
       "  </tbody>\n",
       "</table>\n",
       "</div>"
      ],
      "text/plain": [
       "       State  Buhari   Atiku Nicolas Sowore Moghalu Durotoye  Duke Mailafia  \\\n",
       "0       None    None    None    None   None    None     None  None     None   \n",
       "1       Abia   85058  219698    1489    212      88      720   472      336   \n",
       "2    Adamawa  378078  410266    3670    282     109      162   978     3989   \n",
       "3  Akwa Ibom  175429  395832    1902    222     118       95    92      230   \n",
       "4    Anambra   33298  524738    4374    124    4091       45   932      227   \n",
       "\n",
       "        APC       PDP     PCP     ADC     APGA  \n",
       "0       NaN       NaN     NaN     NaN      NaN  \n",
       "1   85058.0  219698.0  1489.0   336.0   9638.0  \n",
       "2  378078.0  410266.0  3670.0  3989.0    159.0  \n",
       "3  175429.0  395832.0  1902.0   230.0     61.0  \n",
       "4   33298.0  524738.0  4374.0   227.0  30034.0  "
      ]
     },
     "execution_count": 12,
     "metadata": {},
     "output_type": "execute_result"
    }
   ],
   "source": [
    "election_da.head()"
   ]
  },
  {
   "cell_type": "code",
   "execution_count": 13,
   "id": "e565329d",
   "metadata": {
    "execution": {
     "iopub.execute_input": "2022-05-22T10:37:00.197828Z",
     "iopub.status.busy": "2022-05-22T10:37:00.197303Z",
     "iopub.status.idle": "2022-05-22T10:37:00.201973Z",
     "shell.execute_reply": "2022-05-22T10:37:00.201354Z"
    },
    "papermill": {
     "duration": 0.034449,
     "end_time": "2022-05-22T10:37:00.203813",
     "exception": false,
     "start_time": "2022-05-22T10:37:00.169364",
     "status": "completed"
    },
    "tags": []
   },
   "outputs": [
    {
     "data": {
      "text/plain": [
       "(40, 14)"
      ]
     },
     "execution_count": 13,
     "metadata": {},
     "output_type": "execute_result"
    }
   ],
   "source": [
    "election_da.shape"
   ]
  },
  {
   "cell_type": "code",
   "execution_count": 14,
   "id": "860c7d5a",
   "metadata": {
    "execution": {
     "iopub.execute_input": "2022-05-22T10:37:00.259493Z",
     "iopub.status.busy": "2022-05-22T10:37:00.259180Z",
     "iopub.status.idle": "2022-05-22T10:37:00.265818Z",
     "shell.execute_reply": "2022-05-22T10:37:00.265031Z"
    },
    "papermill": {
     "duration": 0.037119,
     "end_time": "2022-05-22T10:37:00.267673",
     "exception": false,
     "start_time": "2022-05-22T10:37:00.230554",
     "status": "completed"
    },
    "tags": []
   },
   "outputs": [
    {
     "data": {
      "text/plain": [
       "array([None, 'Abia', 'Adamawa', 'Akwa Ibom', 'Anambra', 'Bauchi',\n",
       "       'Bayelsa', 'Benue', 'Borno', 'Cross River', 'Delta', 'Ebonyi',\n",
       "       'Edo', 'Ekiti', 'Enugu', 'Gombe', 'Imo', 'Jigawa', 'Kaduna',\n",
       "       'Kano', 'Katsina', 'Kebbi', 'Kogi', 'Kwara', 'Lagos', 'Nassarawa',\n",
       "       'Niger', 'Ogun', 'Ondo', 'Osun', 'Oyo', 'Plateau', 'Rivers',\n",
       "       'Sokoto', 'Taraba', 'Yobe', 'Zamfara', 'FCT', 'Total',\n",
       "       'Source: BBC This Day Vanguard[49][50][51]'], dtype=object)"
      ]
     },
     "execution_count": 14,
     "metadata": {},
     "output_type": "execute_result"
    }
   ],
   "source": [
    "election_da['State'].unique()"
   ]
  },
  {
   "cell_type": "code",
   "execution_count": null,
   "id": "a709d241",
   "metadata": {
    "papermill": {
     "duration": 0.027161,
     "end_time": "2022-05-22T10:37:00.321803",
     "exception": false,
     "start_time": "2022-05-22T10:37:00.294642",
     "status": "completed"
    },
    "tags": []
   },
   "outputs": [],
   "source": []
  },
  {
   "cell_type": "code",
   "execution_count": 15,
   "id": "c265b9e4",
   "metadata": {
    "execution": {
     "iopub.execute_input": "2022-05-22T10:37:00.379005Z",
     "iopub.status.busy": "2022-05-22T10:37:00.378447Z",
     "iopub.status.idle": "2022-05-22T10:37:00.387624Z",
     "shell.execute_reply": "2022-05-22T10:37:00.386835Z"
    },
    "papermill": {
     "duration": 0.039956,
     "end_time": "2022-05-22T10:37:00.389928",
     "exception": false,
     "start_time": "2022-05-22T10:37:00.349972",
     "status": "completed"
    },
    "tags": []
   },
   "outputs": [],
   "source": [
    "election_data = pd.merge(df, df_, on='State', how='outer')"
   ]
  },
  {
   "cell_type": "code",
   "execution_count": 16,
   "id": "875a5a52",
   "metadata": {
    "execution": {
     "iopub.execute_input": "2022-05-22T10:37:00.447463Z",
     "iopub.status.busy": "2022-05-22T10:37:00.447049Z",
     "iopub.status.idle": "2022-05-22T10:37:00.466989Z",
     "shell.execute_reply": "2022-05-22T10:37:00.466349Z"
    },
    "papermill": {
     "duration": 0.051854,
     "end_time": "2022-05-22T10:37:00.468816",
     "exception": false,
     "start_time": "2022-05-22T10:37:00.416962",
     "status": "completed"
    },
    "tags": []
   },
   "outputs": [
    {
     "data": {
      "text/html": [
       "<div>\n",
       "<style scoped>\n",
       "    .dataframe tbody tr th:only-of-type {\n",
       "        vertical-align: middle;\n",
       "    }\n",
       "\n",
       "    .dataframe tbody tr th {\n",
       "        vertical-align: top;\n",
       "    }\n",
       "\n",
       "    .dataframe thead th {\n",
       "        text-align: right;\n",
       "    }\n",
       "</style>\n",
       "<table border=\"1\" class=\"dataframe\">\n",
       "  <thead>\n",
       "    <tr style=\"text-align: right;\">\n",
       "      <th></th>\n",
       "      <th>State</th>\n",
       "      <th>Buhari</th>\n",
       "      <th>Atiku</th>\n",
       "      <th>Nicolas</th>\n",
       "      <th>Sowore</th>\n",
       "      <th>Moghalu</th>\n",
       "      <th>Durotoye</th>\n",
       "      <th>Duke</th>\n",
       "      <th>Mailafia</th>\n",
       "      <th>APC</th>\n",
       "      <th>PDP</th>\n",
       "      <th>PCP</th>\n",
       "      <th>ADC</th>\n",
       "      <th>APGA</th>\n",
       "    </tr>\n",
       "  </thead>\n",
       "  <tbody>\n",
       "    <tr>\n",
       "      <th>0</th>\n",
       "      <td>None</td>\n",
       "      <td>None</td>\n",
       "      <td>None</td>\n",
       "      <td>None</td>\n",
       "      <td>None</td>\n",
       "      <td>None</td>\n",
       "      <td>None</td>\n",
       "      <td>None</td>\n",
       "      <td>None</td>\n",
       "      <td>NaN</td>\n",
       "      <td>NaN</td>\n",
       "      <td>NaN</td>\n",
       "      <td>NaN</td>\n",
       "      <td>NaN</td>\n",
       "    </tr>\n",
       "    <tr>\n",
       "      <th>1</th>\n",
       "      <td>Abia</td>\n",
       "      <td>85058</td>\n",
       "      <td>219698</td>\n",
       "      <td>1489</td>\n",
       "      <td>212</td>\n",
       "      <td>88</td>\n",
       "      <td>720</td>\n",
       "      <td>472</td>\n",
       "      <td>336</td>\n",
       "      <td>85058.0</td>\n",
       "      <td>219698.0</td>\n",
       "      <td>1489.0</td>\n",
       "      <td>336.0</td>\n",
       "      <td>9638.0</td>\n",
       "    </tr>\n",
       "    <tr>\n",
       "      <th>2</th>\n",
       "      <td>Adamawa</td>\n",
       "      <td>378078</td>\n",
       "      <td>410266</td>\n",
       "      <td>3670</td>\n",
       "      <td>282</td>\n",
       "      <td>109</td>\n",
       "      <td>162</td>\n",
       "      <td>978</td>\n",
       "      <td>3989</td>\n",
       "      <td>378078.0</td>\n",
       "      <td>410266.0</td>\n",
       "      <td>3670.0</td>\n",
       "      <td>3989.0</td>\n",
       "      <td>159.0</td>\n",
       "    </tr>\n",
       "    <tr>\n",
       "      <th>3</th>\n",
       "      <td>Akwa Ibom</td>\n",
       "      <td>175429</td>\n",
       "      <td>395832</td>\n",
       "      <td>1902</td>\n",
       "      <td>222</td>\n",
       "      <td>118</td>\n",
       "      <td>95</td>\n",
       "      <td>92</td>\n",
       "      <td>230</td>\n",
       "      <td>175429.0</td>\n",
       "      <td>395832.0</td>\n",
       "      <td>1902.0</td>\n",
       "      <td>230.0</td>\n",
       "      <td>61.0</td>\n",
       "    </tr>\n",
       "    <tr>\n",
       "      <th>4</th>\n",
       "      <td>Anambra</td>\n",
       "      <td>33298</td>\n",
       "      <td>524738</td>\n",
       "      <td>4374</td>\n",
       "      <td>124</td>\n",
       "      <td>4091</td>\n",
       "      <td>45</td>\n",
       "      <td>932</td>\n",
       "      <td>227</td>\n",
       "      <td>33298.0</td>\n",
       "      <td>524738.0</td>\n",
       "      <td>4374.0</td>\n",
       "      <td>227.0</td>\n",
       "      <td>30034.0</td>\n",
       "    </tr>\n",
       "  </tbody>\n",
       "</table>\n",
       "</div>"
      ],
      "text/plain": [
       "       State  Buhari   Atiku Nicolas Sowore Moghalu Durotoye  Duke Mailafia  \\\n",
       "0       None    None    None    None   None    None     None  None     None   \n",
       "1       Abia   85058  219698    1489    212      88      720   472      336   \n",
       "2    Adamawa  378078  410266    3670    282     109      162   978     3989   \n",
       "3  Akwa Ibom  175429  395832    1902    222     118       95    92      230   \n",
       "4    Anambra   33298  524738    4374    124    4091       45   932      227   \n",
       "\n",
       "        APC       PDP     PCP     ADC     APGA  \n",
       "0       NaN       NaN     NaN     NaN      NaN  \n",
       "1   85058.0  219698.0  1489.0   336.0   9638.0  \n",
       "2  378078.0  410266.0  3670.0  3989.0    159.0  \n",
       "3  175429.0  395832.0  1902.0   230.0     61.0  \n",
       "4   33298.0  524738.0  4374.0   227.0  30034.0  "
      ]
     },
     "execution_count": 16,
     "metadata": {},
     "output_type": "execute_result"
    }
   ],
   "source": [
    "election_data.head()"
   ]
  },
  {
   "cell_type": "code",
   "execution_count": 17,
   "id": "5fa78ca7",
   "metadata": {
    "execution": {
     "iopub.execute_input": "2022-05-22T10:37:00.525335Z",
     "iopub.status.busy": "2022-05-22T10:37:00.524744Z",
     "iopub.status.idle": "2022-05-22T10:37:00.543147Z",
     "shell.execute_reply": "2022-05-22T10:37:00.542464Z"
    },
    "papermill": {
     "duration": 0.048758,
     "end_time": "2022-05-22T10:37:00.545014",
     "exception": false,
     "start_time": "2022-05-22T10:37:00.496256",
     "status": "completed"
    },
    "tags": []
   },
   "outputs": [
    {
     "data": {
      "text/html": [
       "<div>\n",
       "<style scoped>\n",
       "    .dataframe tbody tr th:only-of-type {\n",
       "        vertical-align: middle;\n",
       "    }\n",
       "\n",
       "    .dataframe tbody tr th {\n",
       "        vertical-align: top;\n",
       "    }\n",
       "\n",
       "    .dataframe thead th {\n",
       "        text-align: right;\n",
       "    }\n",
       "</style>\n",
       "<table border=\"1\" class=\"dataframe\">\n",
       "  <thead>\n",
       "    <tr style=\"text-align: right;\">\n",
       "      <th></th>\n",
       "      <th>State</th>\n",
       "      <th>Buhari</th>\n",
       "      <th>Atiku</th>\n",
       "      <th>Nicolas</th>\n",
       "      <th>Sowore</th>\n",
       "      <th>Moghalu</th>\n",
       "      <th>Durotoye</th>\n",
       "      <th>Duke</th>\n",
       "      <th>Mailafia</th>\n",
       "      <th>APC</th>\n",
       "      <th>PDP</th>\n",
       "      <th>PCP</th>\n",
       "      <th>ADC</th>\n",
       "      <th>APGA</th>\n",
       "    </tr>\n",
       "  </thead>\n",
       "  <tbody>\n",
       "    <tr>\n",
       "      <th>37</th>\n",
       "      <td>FCT</td>\n",
       "      <td>152224</td>\n",
       "      <td>259997</td>\n",
       "      <td></td>\n",
       "      <td>583</td>\n",
       "      <td>1083</td>\n",
       "      <td>652</td>\n",
       "      <td>410</td>\n",
       "      <td>246</td>\n",
       "      <td>152224.0</td>\n",
       "      <td>259997.0</td>\n",
       "      <td>2921.0</td>\n",
       "      <td>246.0</td>\n",
       "      <td>255.0</td>\n",
       "    </tr>\n",
       "    <tr>\n",
       "      <th>38</th>\n",
       "      <td>Total</td>\n",
       "      <td>15191847</td>\n",
       "      <td>11262978</td>\n",
       "      <td>110196</td>\n",
       "      <td>33953</td>\n",
       "      <td>21886</td>\n",
       "      <td>16779</td>\n",
       "      <td>34746</td>\n",
       "      <td>97874</td>\n",
       "      <td>NaN</td>\n",
       "      <td>NaN</td>\n",
       "      <td>NaN</td>\n",
       "      <td>NaN</td>\n",
       "      <td>NaN</td>\n",
       "    </tr>\n",
       "    <tr>\n",
       "      <th>39</th>\n",
       "      <td>Source: BBC This Day Vanguard[49][50][51]</td>\n",
       "      <td>None</td>\n",
       "      <td>None</td>\n",
       "      <td>None</td>\n",
       "      <td>None</td>\n",
       "      <td>None</td>\n",
       "      <td>None</td>\n",
       "      <td>None</td>\n",
       "      <td>None</td>\n",
       "      <td>NaN</td>\n",
       "      <td>NaN</td>\n",
       "      <td>NaN</td>\n",
       "      <td>NaN</td>\n",
       "      <td>NaN</td>\n",
       "    </tr>\n",
       "    <tr>\n",
       "      <th>40</th>\n",
       "      <td>Nasarawa</td>\n",
       "      <td>NaN</td>\n",
       "      <td>NaN</td>\n",
       "      <td>NaN</td>\n",
       "      <td>NaN</td>\n",
       "      <td>NaN</td>\n",
       "      <td>NaN</td>\n",
       "      <td>NaN</td>\n",
       "      <td>NaN</td>\n",
       "      <td>289903.0</td>\n",
       "      <td>283847.0</td>\n",
       "      <td>1868.0</td>\n",
       "      <td>339.0</td>\n",
       "      <td>1523.0</td>\n",
       "    </tr>\n",
       "    <tr>\n",
       "      <th>41</th>\n",
       "      <td>Total:</td>\n",
       "      <td>NaN</td>\n",
       "      <td>NaN</td>\n",
       "      <td>NaN</td>\n",
       "      <td>NaN</td>\n",
       "      <td>NaN</td>\n",
       "      <td>NaN</td>\n",
       "      <td>NaN</td>\n",
       "      <td>NaN</td>\n",
       "      <td>15191847.0</td>\n",
       "      <td>11262978.0</td>\n",
       "      <td>107286.0</td>\n",
       "      <td>97874.0</td>\n",
       "      <td>66851.0</td>\n",
       "    </tr>\n",
       "  </tbody>\n",
       "</table>\n",
       "</div>"
      ],
      "text/plain": [
       "                                        State    Buhari     Atiku Nicolas  \\\n",
       "37                                        FCT    152224    259997           \n",
       "38                                      Total  15191847  11262978  110196   \n",
       "39  Source: BBC This Day Vanguard[49][50][51]      None      None    None   \n",
       "40                                   Nasarawa       NaN       NaN     NaN   \n",
       "41                                     Total:       NaN       NaN     NaN   \n",
       "\n",
       "   Sowore Moghalu Durotoye   Duke Mailafia         APC         PDP       PCP  \\\n",
       "37    583    1083      652    410      246    152224.0    259997.0    2921.0   \n",
       "38  33953   21886    16779  34746    97874         NaN         NaN       NaN   \n",
       "39   None    None     None   None     None         NaN         NaN       NaN   \n",
       "40    NaN     NaN      NaN    NaN      NaN    289903.0    283847.0    1868.0   \n",
       "41    NaN     NaN      NaN    NaN      NaN  15191847.0  11262978.0  107286.0   \n",
       "\n",
       "        ADC     APGA  \n",
       "37    246.0    255.0  \n",
       "38      NaN      NaN  \n",
       "39      NaN      NaN  \n",
       "40    339.0   1523.0  \n",
       "41  97874.0  66851.0  "
      ]
     },
     "execution_count": 17,
     "metadata": {},
     "output_type": "execute_result"
    }
   ],
   "source": [
    "election_data.tail()"
   ]
  },
  {
   "cell_type": "code",
   "execution_count": 18,
   "id": "9ac84019",
   "metadata": {
    "execution": {
     "iopub.execute_input": "2022-05-22T10:37:00.602596Z",
     "iopub.status.busy": "2022-05-22T10:37:00.601980Z",
     "iopub.status.idle": "2022-05-22T10:37:00.607281Z",
     "shell.execute_reply": "2022-05-22T10:37:00.606728Z"
    },
    "papermill": {
     "duration": 0.035834,
     "end_time": "2022-05-22T10:37:00.608923",
     "exception": false,
     "start_time": "2022-05-22T10:37:00.573089",
     "status": "completed"
    },
    "tags": []
   },
   "outputs": [
    {
     "data": {
      "text/plain": [
       "array([None, 'Abia', 'Adamawa', 'Akwa Ibom', 'Anambra', 'Bauchi',\n",
       "       'Bayelsa', 'Benue', 'Borno', 'Cross River', 'Delta', 'Ebonyi',\n",
       "       'Edo', 'Ekiti', 'Enugu', 'Gombe', 'Imo', 'Jigawa', 'Kaduna',\n",
       "       'Kano', 'Katsina', 'Kebbi', 'Kogi', 'Kwara', 'Lagos', 'Nassarawa',\n",
       "       'Niger', 'Ogun', 'Ondo', 'Osun', 'Oyo', 'Plateau', 'Rivers',\n",
       "       'Sokoto', 'Taraba', 'Yobe', 'Zamfara', 'FCT', 'Total',\n",
       "       'Source: BBC This Day Vanguard[49][50][51]', 'Nasarawa', 'Total:'],\n",
       "      dtype=object)"
      ]
     },
     "execution_count": 18,
     "metadata": {},
     "output_type": "execute_result"
    }
   ],
   "source": [
    "election_data[\"State\"].unique()"
   ]
  },
  {
   "cell_type": "code",
   "execution_count": 19,
   "id": "830a3542",
   "metadata": {
    "execution": {
     "iopub.execute_input": "2022-05-22T10:37:00.667723Z",
     "iopub.status.busy": "2022-05-22T10:37:00.667199Z",
     "iopub.status.idle": "2022-05-22T10:37:00.671820Z",
     "shell.execute_reply": "2022-05-22T10:37:00.671298Z"
    },
    "papermill": {
     "duration": 0.036404,
     "end_time": "2022-05-22T10:37:00.673623",
     "exception": false,
     "start_time": "2022-05-22T10:37:00.637219",
     "status": "completed"
    },
    "tags": []
   },
   "outputs": [
    {
     "data": {
      "text/plain": [
       "(42, 14)"
      ]
     },
     "execution_count": 19,
     "metadata": {},
     "output_type": "execute_result"
    }
   ],
   "source": [
    "election_data.shape"
   ]
  },
  {
   "cell_type": "code",
   "execution_count": 20,
   "id": "71186002",
   "metadata": {
    "execution": {
     "iopub.execute_input": "2022-05-22T10:37:00.733250Z",
     "iopub.status.busy": "2022-05-22T10:37:00.732960Z",
     "iopub.status.idle": "2022-05-22T10:37:00.739912Z",
     "shell.execute_reply": "2022-05-22T10:37:00.739327Z"
    },
    "papermill": {
     "duration": 0.03918,
     "end_time": "2022-05-22T10:37:00.741845",
     "exception": false,
     "start_time": "2022-05-22T10:37:00.702665",
     "status": "completed"
    },
    "tags": []
   },
   "outputs": [],
   "source": [
    "election_data.to_csv(\"election_data.csv\", index= False)"
   ]
  },
  {
   "cell_type": "code",
   "execution_count": null,
   "id": "f895134e",
   "metadata": {
    "papermill": {
     "duration": 0.028177,
     "end_time": "2022-05-22T10:37:00.798745",
     "exception": false,
     "start_time": "2022-05-22T10:37:00.770568",
     "status": "completed"
    },
    "tags": []
   },
   "outputs": [],
   "source": []
  }
 ],
 "metadata": {
  "kernelspec": {
   "display_name": "Python 3",
   "language": "python",
   "name": "python3"
  },
  "language_info": {
   "codemirror_mode": {
    "name": "ipython",
    "version": 3
   },
   "file_extension": ".py",
   "mimetype": "text/x-python",
   "name": "python",
   "nbconvert_exporter": "python",
   "pygments_lexer": "ipython3",
   "version": "3.7.12"
  },
  "papermill": {
   "default_parameters": {},
   "duration": 14.264679,
   "end_time": "2022-05-22T10:37:01.547576",
   "environment_variables": {},
   "exception": null,
   "input_path": "__notebook__.ipynb",
   "output_path": "__notebook__.ipynb",
   "parameters": {},
   "start_time": "2022-05-22T10:36:47.282897",
   "version": "2.3.4"
  }
 },
 "nbformat": 4,
 "nbformat_minor": 5
}
